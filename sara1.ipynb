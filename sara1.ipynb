{
 "cells": [
  {
   "cell_type": "markdown",
   "metadata": {},
   "source": [
    "# Regresión lineal univariante"
   ]
  },
  {
   "cell_type": "code",
   "execution_count": null,
   "metadata": {},
   "outputs": [],
   "source": [
    "import os\n",
    "import pandas as pd\n",
    "\n",
    "csvdataset=\n",
    "\n",
    "data = pd.read_csv(\"csvdataset\")\n",
    "data"
   ]
  },
  {
   "cell_type": "code",
   "execution_count": null,
   "metadata": {},
   "outputs": [],
   "source": [
    "descripcion = data.describe(include = \"all\").T\n",
    "descripcion[\"Nulos\"] = data.isnull().sum()\n",
    "descripcion[\"Tipos\"] = data.dtypes\n",
    "descripcion[\"Unicos\"] = data.nunique()\n",
    "descripcion.head(len(data))"
   ]
  },
  {
   "cell_type": "code",
   "execution_count": null,
   "metadata": {},
   "outputs": [],
   "source": [
    "for column in data.columns:\n",
    "    print(f\"Columna: {column}\")\n",
    "    try:\n",
    "        unique_values = sorted(data[column].dropna().unique())\n",
    "        print(f\"Valores únicos ordenados: {unique_values}\")\n",
    "    except TypeError:\n",
    "        unique_values = data[column].dropna().unique()\n",
    "        print(f\"Valores únicos (no ordenados): {list(unique_values)}\")\n",
    "    print(\"-\" * 130)"
   ]
  },
  {
   "cell_type": "markdown",
   "metadata": {},
   "source": [
    "Mapa de correlaciones"
   ]
  },
  {
   "cell_type": "code",
   "execution_count": null,
   "metadata": {},
   "outputs": [],
   "source": [
    "import pandas as pd\n",
    "import numpy as np\n",
    "import seaborn as sns\n",
    "import matplotlib.pyplot as plt\n",
    "\n",
    "# Filtrar solo columnas numéricas\n",
    "data_numeric = data.select_dtypes(include=['number'])\n",
    "\n",
    "# Calcular la matriz de correlación en porcentajes\n",
    "correlation_matrix = data_numeric.corr() * 100\n",
    "\n",
    "# Eliminar la columna y fila 'ID' si existe\n",
    "correlation_matrix_no_id = correlation_matrix.drop(index=\"ID\", columns=\"ID\", errors='ignore')\n",
    "\n",
    "# Obtener las correlaciones por encima de la diagonal principal\n",
    "correlation_pairs = correlation_matrix_no_id.where(\n",
    "    ~np.tril(np.ones(correlation_matrix_no_id.shape)).astype(bool)\n",
    ")\n",
    "\n",
    "# Filtrar correlaciones negativas menores a -40% y positivas mayores a 40%\n",
    "negative_corr = correlation_pairs[correlation_pairs < -40].stack()\n",
    "positive_corr = correlation_pairs[correlation_pairs > 40].stack()\n",
    "\n",
    "# Imprimir resultados\n",
    "print(\"Correlaciones negativas menores de -40%:\")\n",
    "print(negative_corr)\n",
    "print(\"\\nCorrelaciones positivas mayores de 40%:\")\n",
    "print(positive_corr)\n",
    "\n",
    "# Visualizar el mapa de calor de la matriz de correlación\n",
    "plt.figure(figsize=(10, 8))\n",
    "sns.heatmap(\n",
    "    correlation_matrix,\n",
    "    annot=False,          # Cambia a True si quieres los valores en el heatmap\n",
    "    cmap=\"coolwarm\",\n",
    "    square=True,\n",
    "    linewidths=0.5,\n",
    "    cbar_kws={\"shrink\": 0.8}\n",
    ")\n",
    "\n",
    "# Agregar porcentajes como texto en el mapa de calor\n",
    "for i in range(correlation_matrix.shape[0]):\n",
    "    for j in range(correlation_matrix.shape[1]):\n",
    "        if i != j:  # Evitar la diagonal principal\n",
    "            value = f\"{correlation_matrix.iloc[i, j]:.0f}%\"\n",
    "            plt.text(\n",
    "                j + 0.5, i + 0.5, value,\n",
    "                ha='center', va='center', color='black', fontsize=8\n",
    "            )\n",
    "\n",
    "plt.title(\"Mapa de correlaciones (%)\", fontsize=16)\n",
    "plt.show()"
   ]
  },
  {
   "cell_type": "markdown",
   "metadata": {},
   "source": [
    "Selecciono las variables de interés"
   ]
  },
  {
   "cell_type": "markdown",
   "metadata": {},
   "source": [
    "ATENTAS hay que cambiar!!"
   ]
  },
  {
   "cell_type": "code",
   "execution_count": null,
   "metadata": {},
   "outputs": [],
   "source": [
    "X = data[['area']]  # Variable independiente (cantidad de cemento) (el doble corchete es para que la salida sea un DataFrame)\n",
    "y = data['price']  # Variable dependiente (dureza)"
   ]
  },
  {
   "cell_type": "markdown",
   "metadata": {},
   "source": [
    "Separo entre train y test"
   ]
  },
  {
   "cell_type": "code",
   "execution_count": null,
   "metadata": {},
   "outputs": [],
   "source": [
    "from sklearn.model_selection import train_test_split\n",
    "X_train, X_test, y_train, y_test = train_test_split(X, y, test_size=0.2, random_state=42)"
   ]
  },
  {
   "cell_type": "code",
   "execution_count": null,
   "metadata": {},
   "outputs": [],
   "source": [
    "from sklearn.linear_model import LinearRegression"
   ]
  },
  {
   "cell_type": "code",
   "execution_count": null,
   "metadata": {},
   "outputs": [],
   "source": [
    "model = LinearRegression()"
   ]
  },
  {
   "cell_type": "markdown",
   "metadata": {},
   "source": [
    "Ajustar el modelo"
   ]
  },
  {
   "cell_type": "code",
   "execution_count": null,
   "metadata": {},
   "outputs": [],
   "source": [
    "model.fit(X_train, y_train)"
   ]
  },
  {
   "cell_type": "code",
   "execution_count": null,
   "metadata": {},
   "outputs": [],
   "source": [
    "y_pred = model.predict(X_test)"
   ]
  },
  {
   "cell_type": "markdown",
   "metadata": {},
   "source": [
    "ABAJO se necesitan cambios!!"
   ]
  },
  {
   "cell_type": "code",
   "execution_count": null,
   "metadata": {},
   "outputs": [],
   "source": [
    "from matplotlib import pyplot as plt\n",
    "df = X_test.copy()\n",
    "df[\"y_pred\"] = y_pred\n",
    "#plt(x = df[\"y_test\"], y = df[\"cement\"], figsize=(10, 6))\n",
    "plt.scatter(df[\"area\"], df[\"y_pred\"])\n",
    "plt.xlabel(\"Area de la casa\")\n",
    "plt.ylabel(\"Precio de la casa\")\n",
    "plt.show()"
   ]
  },
  {
   "cell_type": "markdown",
   "metadata": {},
   "source": [
    "ABAJO CAMBIOS"
   ]
  },
  {
   "cell_type": "code",
   "execution_count": null,
   "metadata": {},
   "outputs": [],
   "source": [
    "plt.scatter(X_test[\"area\"], y_test, color='black', label='Datos reales')\n",
    "plt.plot(X_test[\"area\"], y_pred, color='blue', linewidth=3, label='Regresión lineal')\n",
    "plt.xlabel('area del inmueble')\n",
    "plt.ylabel('Precio')\n",
    "plt.title('Regresión Lineal Univariante')\n",
    "plt.legend()\n",
    "plt.show()"
   ]
  },
  {
   "cell_type": "markdown",
   "metadata": {},
   "source": [
    "Metricas de rendimiento"
   ]
  },
  {
   "cell_type": "code",
   "execution_count": null,
   "metadata": {},
   "outputs": [],
   "source": [
    "from sklearn.metrics import r2_score, mean_squared_error, mean_absolute_error"
   ]
  },
  {
   "cell_type": "code",
   "execution_count": null,
   "metadata": {},
   "outputs": [],
   "source": [
    "model.score(X_train, y_train)"
   ]
  },
  {
   "cell_type": "code",
   "execution_count": null,
   "metadata": {},
   "outputs": [],
   "source": [
    "model.score(X_test, y_test)"
   ]
  },
  {
   "cell_type": "code",
   "execution_count": null,
   "metadata": {},
   "outputs": [],
   "source": [
    "r2 = r2_score(y_test, y_pred)\n",
    "mse = mean_squared_error(y_test, y_pred)\n",
    "mae = mean_absolute_error(y_test, y_pred)"
   ]
  },
  {
   "cell_type": "code",
   "execution_count": null,
   "metadata": {},
   "outputs": [],
   "source": [
    "print(f'R al cuadrado (R²): {round(r2_score(y_test, y_pred), 4)} Objetivo --> 1')\n",
    "print(f'Error Cuadrático Medio (Mean Squared Error MSE): {mean_squared_error(y_test, y_pred).round(2)} Objetivo --> 0')\n",
    "print(f'Error Absoluto Medio (Mean Absolute Error MAE): {mean_absolute_error(y_test, y_pred).round(2)} Objetivo --> 0')"
   ]
  }
 ],
 "metadata": {
  "language_info": {
   "name": "python"
  }
 },
 "nbformat": 4,
 "nbformat_minor": 2
}
